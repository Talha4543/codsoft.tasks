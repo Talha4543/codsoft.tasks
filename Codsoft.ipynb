{
  "nbformat": 4,
  "nbformat_minor": 0,
  "metadata": {
    "colab": {
      "provenance": []
    },
    "kernelspec": {
      "name": "python3",
      "display_name": "Python 3"
    },
    "language_info": {
      "name": "python"
    }
  },
  "cells": [
    {
      "cell_type": "markdown",
      "source": [
        "Baic Calculator"
      ],
      "metadata": {
        "id": "rLd7jQFaoYkE"
      }
    },
    {
      "cell_type": "code",
      "execution_count": 1,
      "metadata": {
        "colab": {
          "base_uri": "https://localhost:8080/"
        },
        "id": "vAMsk4Qdffi-",
        "outputId": "fc9b4753-b362-406d-be2d-737343eddeb3"
      },
      "outputs": [
        {
          "output_type": "stream",
          "name": "stdout",
          "text": [
            "****Welcome TO Basic Calculator*******\n",
            "1 for Addition\n",
            "2 for Subtraction\n",
            "3 for Multiplication\n",
            "4 for Division\n",
            "Enter your choice:3\n",
            "Enter first number:4\n",
            "Enter second number:4\n",
            "Multiplication is  16\n"
          ]
        }
      ],
      "source": [
        "#Codsoft\n",
        "print(\"Codsoft project\")\n",
        "print(\"****Welcome TO Basic Calculator*******\")\n",
        "\n",
        "print(\"1 for Addition\")\n",
        "print(\"2 for Subtraction\")\n",
        "print(\"3 for Multiplication\")\n",
        "print(\"4 for Division\")\n",
        "c=(input(\"Enter your choice:\"))\n",
        "a=int(input(\"Enter first number:\"))\n",
        "b=int(input(\"Enter second number:\"))\n",
        "\n",
        "if c=='1':\n",
        "    z=a+b\n",
        "    print(\"Addition is \",z)\n",
        "elif c=='2':\n",
        "    z=a-b\n",
        "    print(\"Subtraction is \",z)\n",
        "elif c=='3':\n",
        "    z=a*b\n",
        "    print(\"Multiplication is \",z)\n",
        "elif c=='4':\n",
        "    z=a/b\n",
        "    print(\"Division is \",z)\n",
        "else:\n",
        "    print(\"Invalid choice\")\n",
        ""
      ]
    },
    {
      "cell_type": "markdown",
      "source": [],
      "metadata": {
        "id": "tfWy3dj1jdVK"
      }
    },
    {
      "cell_type": "markdown",
      "source": [
        "Password Generator"
      ],
      "metadata": {
        "id": "8UUbT_x6jXIU"
      }
    },
    {
      "cell_type": "code",
      "source": [
        "#Codsoft\n",
        "print(\"Codsoft project\")\n",
        "import random\n",
        "import string\n",
        "\n",
        "def generate_password(length):\n",
        "    characters = string.ascii_letters + string.digits + string.punctuation\n",
        "\n",
        "    password = ''.join(random.choice(characters) for i in range(length))\n",
        "\n",
        "    return password\n",
        "\n",
        "while True:\n",
        "    try:\n",
        "        length = int(input(\"Enter the desired password length: \"))\n",
        "        if length <= 0:\n",
        "            print(\"Password length should be a positive integer.\")\n",
        "        else:\n",
        "            break\n",
        "    except ValueError:\n",
        "        print(\"Please enter a valid integer for password length.\")\n",
        "\n",
        "password = generate_password(length)\n",
        "print(\"Generated Password: \" , password)\n"
      ],
      "metadata": {
        "colab": {
          "base_uri": "https://localhost:8080/"
        },
        "id": "NU7-AchBhBaR",
        "outputId": "24281630-457c-44c7-a678-68a2ec332312"
      },
      "execution_count": 9,
      "outputs": [
        {
          "output_type": "stream",
          "name": "stdout",
          "text": [
            "Enter the desired password length: 8\n",
            "Generated Password:  p4X%3%tk\n"
          ]
        }
      ]
    },
    {
      "cell_type": "markdown",
      "source": [
        "Contact Book"
      ],
      "metadata": {
        "id": "X0eGJaLhjTIz"
      }
    },
    {
      "cell_type": "code",
      "source": [
        "#Codsoft\n",
        "print(\"Codsoft Project\")\n",
        "class Contact:\n",
        "    def __init__(self, name, phone, email, address):\n",
        "        self.name = name\n",
        "        self.phone = phone\n",
        "        self.email = email\n",
        "        self.address=address\n",
        "\n",
        "class ContactBook:\n",
        "    def __init__(self):\n",
        "        self.contacts = []\n",
        "\n",
        "    def add_contact(self, contact):\n",
        "        self.contacts.append(contact)\n",
        "\n",
        "    def view_contacts(self):\n",
        "        for contact in self.contacts:\n",
        "            print(f\"Name: {contact.name}, Phone: {contact.phone}, Email: {contact.email}, Address {contact.address}\")\n",
        "\n",
        "    def search_contact(self, name):\n",
        "        for contact in self.contacts:\n",
        "            if contact.name == name:\n",
        "                return contact\n",
        "        return None\n",
        "\n",
        "    def update_contact(self, name, new_phone, new_email,new_address):\n",
        "        contact = self.search_contact(name)\n",
        "        if contact:\n",
        "            contact.phone = new_phone\n",
        "            contact.email = new_email\n",
        "            contact.address=new_address\n",
        "            print(\"Contact updated successfully.\")\n",
        "        else:\n",
        "            print(\"Contact not found.\")\n",
        "\n",
        "    def delete_contact(self, name):\n",
        "        contact = self.search_contact(name)\n",
        "        if contact:\n",
        "            self.contacts.remove(contact)\n",
        "            print(\"Contact deleted successfully.\")\n",
        "        else:\n",
        "            print(\"Contact not found.\")\n",
        "\n",
        "def main():\n",
        "    contact_book = ContactBook()\n",
        "\n",
        "    while True:\n",
        "        print(\"\\nContact Book Menu:\")\n",
        "        print(\"1. Add Contact\")\n",
        "        print(\"2. View Contacts\")\n",
        "        print(\"3. Search Contact\")\n",
        "        print(\"4. Update Contact\")\n",
        "        print(\"5. Delete Contact\")\n",
        "        print(\"6. Quit\")\n",
        "\n",
        "        choice = input(\"Enter your choice: \")\n",
        "\n",
        "        if choice == \"1\":\n",
        "            name = input(\"Enter the name: \")\n",
        "            phone = input(\"Enter the phone: \")\n",
        "            email = input(\"Enter the email: \")\n",
        "            address=input(\"Enter the address:\")\n",
        "            contact = Contact(name, phone, email,address)\n",
        "            contact_book.add_contact(contact)\n",
        "            print(\"Contact added successfully.\")\n",
        "        elif choice == \"2\":\n",
        "            contact_book.view_contacts()\n",
        "        elif choice == \"3\":\n",
        "            name = input(\"Enter the name to search: \")\n",
        "            contact = contact_book.search_contact(name)\n",
        "            if contact:\n",
        "                print(\"Contact found:\")\n",
        "                print(f\"Name: {contact.name}, Phone: {contact.phone}, Email: {contact.email}, Address : {contact.address}\")\n",
        "            else:\n",
        "                print(\"Contact not found.\")\n",
        "        elif choice == \"4\":\n",
        "            name = input(\"Enter the name to update: \")\n",
        "            new_phone = input(\"Enter the new phone: \")\n",
        "            new_email = input(\"Enter the new email: \")\n",
        "            contact_book.update_contact(name, new_phone, new_email,new_address)\n",
        "        elif choice == \"5\":\n",
        "            name = input(\"Enter the name to delete: \")\n",
        "            contact_book.delete_contact(name)\n",
        "        elif choice == \"6\":\n",
        "            break\n",
        "        else:\n",
        "            print(\"Invalid choice. Please try again.\")\n",
        "\n",
        "main()"
      ],
      "metadata": {
        "colab": {
          "base_uri": "https://localhost:8080/"
        },
        "id": "KD0v1bl5jTyw",
        "outputId": "521bd075-a2e1-4974-872f-ddca0af6db4d"
      },
      "execution_count": 14,
      "outputs": [
        {
          "name": "stdout",
          "output_type": "stream",
          "text": [
            "\n",
            "Contact Book Menu:\n",
            "1. Add Contact\n",
            "2. View Contacts\n",
            "3. Search Contact\n",
            "4. Update Contact\n",
            "5. Delete Contact\n",
            "6. Quit\n",
            "Enter your choice: 1\n",
            "Enter the name: Talha\n",
            "Enter the phone: 03493312275\n",
            "Enter the email: ta0696496\n",
            "Enter the address:Murshad Town\n",
            "Contact added successfully.\n",
            "\n",
            "Contact Book Menu:\n",
            "1. Add Contact\n",
            "2. View Contacts\n",
            "3. Search Contact\n",
            "4. Update Contact\n",
            "5. Delete Contact\n",
            "6. Quit\n",
            "Enter your choice: 2\n",
            "Name: Talha, Phone: 03493312275, Email: ta0696496, Address Murshad Town\n",
            "\n",
            "Contact Book Menu:\n",
            "1. Add Contact\n",
            "2. View Contacts\n",
            "3. Search Contact\n",
            "4. Update Contact\n",
            "5. Delete Contact\n",
            "6. Quit\n",
            "Enter your choice: 2\n",
            "Name: Talha, Phone: 03493312275, Email: ta0696496, Address Murshad Town\n",
            "\n",
            "Contact Book Menu:\n",
            "1. Add Contact\n",
            "2. View Contacts\n",
            "3. Search Contact\n",
            "4. Update Contact\n",
            "5. Delete Contact\n",
            "6. Quit\n",
            "Enter your choice: 3\n",
            "Enter the name to search: Talha\n",
            "Contact found:\n",
            "Name: Talha, Phone: 03493312275, Email: ta0696496, Address : Murshad Town\n",
            "\n",
            "Contact Book Menu:\n",
            "1. Add Contact\n",
            "2. View Contacts\n",
            "3. Search Contact\n",
            "4. Update Contact\n",
            "5. Delete Contact\n",
            "6. Quit\n",
            "Enter your choice: 5\n",
            "Enter the name to delete: Talha\n",
            "Contact deleted successfully.\n",
            "\n",
            "Contact Book Menu:\n",
            "1. Add Contact\n",
            "2. View Contacts\n",
            "3. Search Contact\n",
            "4. Update Contact\n",
            "5. Delete Contact\n",
            "6. Quit\n",
            "Enter your choice: 6\n"
          ]
        }
      ]
    }
  ]
}